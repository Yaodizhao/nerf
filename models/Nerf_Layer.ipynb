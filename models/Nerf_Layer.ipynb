{
 "cells": [
  {
   "cell_type": "code",
   "execution_count": null,
   "metadata": {
    "collapsed": true
   },
   "outputs": [],
   "source": [
    "\"\"\"\n",
    "    NeRF(\n",
    "      (xyz_encoding_1): Sequential(\n",
    "        (0): Linear(in_features=63, out_features=256, bias=True)\n",
    "        (1): ReLU(inplace=True)\n",
    "      )\n",
    "      (xyz_encoding_2): Sequential(\n",
    "        (0): Linear(in_features=256, out_features=256, bias=True)\n",
    "        (1): ReLU(inplace=True)\n",
    "      )\n",
    "      (xyz_encoding_3): Sequential(\n",
    "        (0): Linear(in_features=256, out_features=256, bias=True)\n",
    "        (1): ReLU(inplace=True)\n",
    "      )\n",
    "      (xyz_encoding_4): Sequential(\n",
    "        (0): Linear(in_features=256, out_features=256, bias=True)\n",
    "        (1): ReLU(inplace=True)\n",
    "      )\n",
    "      (xyz_encoding_5): Sequential(\n",
    "        (0): Linear(in_features=319, out_features=256, bias=True)\n",
    "        (1): ReLU(inplace=True)\n",
    "      )\n",
    "      (xyz_encoding_6): Sequential(\n",
    "        (0): Linear(in_features=256, out_features=256, bias=True)\n",
    "        (1): ReLU(inplace=True)\n",
    "      )\n",
    "      (xyz_encoding_7): Sequential(\n",
    "        (0): Linear(in_features=256, out_features=256, bias=True)\n",
    "        (1): ReLU(inplace=True)\n",
    "      )\n",
    "      (xyz_encoding_8): Sequential(\n",
    "        (0): Linear(in_features=256, out_features=256, bias=True)\n",
    "        (1): ReLU(inplace=True)\n",
    "      )\n",
    "      (xyz_encoding_final): Linear(in_features=256, out_features=256, bias=True)\n",
    "      (dir_encoding): Sequential(\n",
    "        (0): Linear(in_features=283, out_features=128, bias=True)\n",
    "        (1): ReLU(inplace=True)\n",
    "      )\n",
    "      (sigma): Linear(in_features=256, out_features=1, bias=True)\n",
    "      (rgb): Sequential(\n",
    "        (0): Linear(in_features=128, out_features=3, bias=True)\n",
    "        (1): Sigmoid()\n",
    "      )\n",
    "    )\n",
    "\"\"\""
   ]
  }
 ],
 "metadata": {
  "kernelspec": {
   "display_name": "Python 3",
   "language": "python",
   "name": "python3"
  },
  "language_info": {
   "codemirror_mode": {
    "name": "ipython",
    "version": 2
   },
   "file_extension": ".py",
   "mimetype": "text/x-python",
   "name": "python",
   "nbconvert_exporter": "python",
   "pygments_lexer": "ipython2",
   "version": "2.7.6"
  }
 },
 "nbformat": 4,
 "nbformat_minor": 0
}